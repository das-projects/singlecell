{
 "cells": [
  {
   "cell_type": "markdown",
   "metadata": {},
   "source": [
    "*First compiled: March 18, 2018.*"
   ]
  },
  {
   "cell_type": "markdown",
   "metadata": {},
   "source": [
    "# Benchmarking nearest-neighbor computations"
   ]
  },
  {
   "cell_type": "code",
   "execution_count": 12,
   "metadata": {
    "collapsed": true
   },
   "outputs": [],
   "source": [
    "import time\n",
    "import pandas as pd\n",
    "import random as rd\n",
    "import matplotlib.pyplot as pl\n",
    "import numpy as np\n",
    "from collections import OrderedDict\n",
    "from scanpy.neighbors import compute_neighbors_numpy\n",
    "from utils import scanpy0, scanpy1\n",
    "\n",
    "functions = [scanpy1, scanpy0]\n",
    "\n",
    "n_observations = [5000, 10000, 20000, 40000]\n",
    "n_dimensions = 50\n",
    "n_neighbors = 20"
   ]
  },
  {
   "cell_type": "code",
   "execution_count": 13,
   "metadata": {
    "collapsed": false
   },
   "outputs": [
    {
     "name": "stdout",
     "output_type": "stream",
     "text": [
      "X shape: (5000, 50)\n",
      "  scanpy1                                  :   1.3 s\n",
      "  scanpy0                                  :   1.4 s\n",
      "X shape: (10000, 50)\n",
      "  scanpy1                                  :   6.7 s\n",
      "  scanpy0                                  :   3.8 s\n",
      "X shape: (20000, 50)\n",
      "  scanpy1                                  :   9.0 s\n",
      "  scanpy0                                  :  16.1 s\n",
      "X shape: (40000, 50)\n",
      "  scanpy1                                  :  19.9 s\n",
      "  scanpy0                                  : 138.7 s\n"
     ]
    }
   ],
   "source": [
    "total_times = OrderedDict([(f.__name__, []) for f in functions])\n",
    "for n in n_observations:\n",
    "    times = {}\n",
    "    X = np.random.rand(n, n_dimensions)\n",
    "    print('X shape:', (n, n_dimensions))    \n",
    "    for func in functions:\n",
    "        name = func.__name__\n",
    "        t0 = time.time()\n",
    "        func(X, n_neighbors=n_neighbors)\n",
    "        diff = time.time() - t0\n",
    "        print('  {:40} : {:5.1f} s'.format(name, diff))\n",
    "        total_times[name].append(diff)\n",
    "pd.DataFrame(total_times).to_csv('total_times.csv')"
   ]
  },
  {
   "cell_type": "code",
   "execution_count": 16,
   "metadata": {
    "collapsed": false
   },
   "outputs": [
    {
     "data": {
      "image/png": "[encoded data removed]",
      "text/plain": [
       "<Figure size 576x288 with 1 Axes>"
      ]
     },
     "metadata": {},
     "output_type": "display_data"
    }
   ],
   "source": [
    "total_times = pd.read_csv('total_times.csv')\n",
    "pl.figure(figsize=(8, 4))\n",
    "for name, values in total_times[['scanpy0', 'scanpy1']].items():\n",
    "    pl.semilogx(n_observations, values, marker='o', label=name)\n",
    "pl.title('run time (n_neighbors = {})'.format(n_neighbors))\n",
    "pl.xlabel('n_observations')\n",
    "pl.ylabel('time (seconds)')\n",
    "pl.legend()\n",
    "pl.savefig('./figures/time-n_neighbors{}.svg'.format(n_neighbors))\n",
    "pl.show()"
   ]
  }
 ],
 "metadata": {
  "anaconda-cloud": {},
  "kernelspec": {
   "display_name": "Python [default]",
   "language": "python",
   "name": "python3"
  },
  "language_info": {
   "codemirror_mode": {
    "name": "ipython",
    "version": 3
   },
   "file_extension": ".py",
   "mimetype": "text/x-python",
   "name": "python",
   "nbconvert_exporter": "python",
   "pygments_lexer": "ipython3",
   "version": "3.5.2"
  }
 },
 "nbformat": 4,
 "nbformat_minor": 2
}
