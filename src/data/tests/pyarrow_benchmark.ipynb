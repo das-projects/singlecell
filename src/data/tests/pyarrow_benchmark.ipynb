{
 "cells": [
  {
   "cell_type": "code",
   "execution_count": 1,
   "metadata": {},
   "outputs": [],
   "source": [
    "import pyarrow.parquet as pq\n",
    "import pyarrow as pa\n",
    "from pyarrow import csv\n",
    "import pandas as pd\n",
    "import numpy as np\n",
    "import os\n",
    "import psutil"
   ]
  },
  {
   "cell_type": "code",
   "execution_count": 2,
   "metadata": {},
   "outputs": [],
   "source": [
    "## Read Palmer Station Penguin dataset from GitHub\n",
    "df = pd.read_csv(\"https://raw.githubusercontent.com/allisonhorst/\"\n",
    "                 \"palmerpenguins/47a3476d2147080e7ceccef4cf70105c808f2cbf/\"\n",
    "                 \"data-raw/penguins_raw.csv\")"
   ]
  },
  {
   "cell_type": "code",
   "execution_count": 3,
   "metadata": {},
   "outputs": [],
   "source": [
    "# Increase dataset to 1m rows and reset index\n",
    "df = df.sample(1_000_000, replace=True).reset_index(drop=True)\n",
    "\n",
    "\n",
    "# Update sample number (0 to 999'999)\n",
    "df[\"Sample Number\"] = df.index\n",
    "# Add some random variation to numeric columns\n",
    "df[[\"Culmen Length (mm)\", \"Culmen Depth (mm)\", \n",
    "    \"Flipper Length (mm)\", \"Body Mass (g)\"]] = df[[\"Culmen Length (mm)\", \"Culmen Depth (mm)\", \n",
    "                                                   \"Flipper Length (mm)\", \"Body Mass (g)\"]] \\\n",
    "                                               + np.random.rand(df.shape[0], 4)\n",
    "\n",
    "# Create dataframe where missing numeric values are filled with zero\n",
    "df_nonan = df.copy()\n",
    "df_nonan[[\"Culmen Length (mm)\", \"Culmen Depth (mm)\", \n",
    "          \"Flipper Length (mm)\", \"Body Mass (g)\"]] = df[[\"Culmen Length (mm)\", \"Culmen Depth (mm)\", \n",
    "                                                         \"Flipper Length (mm)\", \"Body Mass (g)\"]].fillna(0)"
   ]
  },
  {
   "cell_type": "code",
   "execution_count": 4,
   "metadata": {},
   "outputs": [
    {
     "name": "stdout",
     "output_type": "stream",
     "text": [
      "6.76 s ± 87.1 ms per loop (mean ± std. dev. of 7 runs, 1 loop each)\n"
     ]
    }
   ],
   "source": [
    "%%timeit\n",
    "# Write to csv\n",
    "df.to_csv(\"penguin-dataset.csv\")"
   ]
  },
  {
   "cell_type": "code",
   "execution_count": 8,
   "metadata": {},
   "outputs": [],
   "source": [
    "# Write to csv\n",
    "df.to_csv(\"penguin-dataset.csv\")"
   ]
  },
  {
   "cell_type": "code",
   "execution_count": 5,
   "metadata": {},
   "outputs": [
    {
     "name": "stdout",
     "output_type": "stream",
     "text": [
      "735 ms ± 12.7 ms per loop (mean ± std. dev. of 7 runs, 1 loop each)\n"
     ]
    }
   ],
   "source": [
    "%%timeit\n",
    "# Write to parquet\n",
    "df.to_parquet(\"penguin-dataset.parquet\")"
   ]
  },
  {
   "cell_type": "code",
   "execution_count": 9,
   "metadata": {},
   "outputs": [],
   "source": [
    "# Write to parquet\n",
    "df.to_parquet(\"penguin-dataset.parquet\")"
   ]
  },
  {
   "cell_type": "code",
   "execution_count": 6,
   "metadata": {},
   "outputs": [
    {
     "name": "stdout",
     "output_type": "stream",
     "text": [
      "456 ms ± 19.3 ms per loop (mean ± std. dev. of 7 runs, 1 loop each)\n"
     ]
    }
   ],
   "source": [
    "%%timeit\n",
    "# Write to Arrow\n",
    "# Convert from pandas to Arrow\n",
    "table = pa.Table.from_pandas(df)\n",
    "# Write out to file\n",
    "with pa.OSFile('penguin-dataset.arrow', 'wb') as sink:\n",
    "    with pa.RecordBatchFileWriter(sink, table.schema) as writer:\n",
    "        writer.write_table(table)"
   ]
  },
  {
   "cell_type": "code",
   "execution_count": 10,
   "metadata": {},
   "outputs": [],
   "source": [
    "# Write to Arrow\n",
    "# Convert from pandas to Arrow\n",
    "table = pa.Table.from_pandas(df)\n",
    "# Write out to file\n",
    "with pa.OSFile('penguin-dataset.arrow', 'wb') as sink:\n",
    "    with pa.RecordBatchFileWriter(sink, table.schema) as writer:\n",
    "        writer.write_table(table)"
   ]
  },
  {
   "cell_type": "code",
   "execution_count": 7,
   "metadata": {},
   "outputs": [
    {
     "name": "stdout",
     "output_type": "stream",
     "text": [
      "424 ms ± 14.7 ms per loop (mean ± std. dev. of 7 runs, 1 loop each)\n"
     ]
    }
   ],
   "source": [
    "%%timeit\n",
    "# Convert from no-NaN pandas to Arrow\n",
    "table_nonan = pa.Table.from_pandas(df_nonan)\n",
    "# Write out to file\n",
    "with pa.OSFile('penguin-dataset-nonan.arrow', 'wb') as sink:\n",
    "    with pa.RecordBatchFileWriter(sink, table_nonan.schema) as writer:\n",
    "        writer.write_table(table_nonan)"
   ]
  },
  {
   "cell_type": "code",
   "execution_count": 11,
   "metadata": {},
   "outputs": [],
   "source": [
    "# Convert from no-NaN pandas to Arrow\n",
    "table_nonan = pa.Table.from_pandas(df_nonan)\n",
    "# Write out to file\n",
    "with pa.OSFile('penguin-dataset-nonan.arrow', 'wb') as sink:\n",
    "    with pa.RecordBatchFileWriter(sink, table_nonan.schema) as writer:\n",
    "        writer.write_table(table_nonan)"
   ]
  },
  {
   "cell_type": "code",
   "execution_count": 12,
   "metadata": {},
   "outputs": [
    {
     "name": "stdout",
     "output_type": "stream",
     "text": [
      "1.28 s ± 11 ms per loop (mean ± std. dev. of 7 runs, 1 loop each)\n"
     ]
    }
   ],
   "source": [
    "%%timeit\n",
    "pd.read_csv(\"penguin-dataset.csv\")[\"Flipper Length (mm)\"].mean()"
   ]
  },
  {
   "cell_type": "code",
   "execution_count": 13,
   "metadata": {},
   "outputs": [
    {
     "name": "stdout",
     "output_type": "stream",
     "text": [
      "202 ms ± 16.9 ms per loop (mean ± std. dev. of 7 runs, 1 loop each)\n"
     ]
    }
   ],
   "source": [
    "%%timeit\n",
    "csv.read_csv(\"penguin-dataset.csv\")[\"Flipper Length (mm)\"].to_pandas().mean()"
   ]
  },
  {
   "cell_type": "code",
   "execution_count": 14,
   "metadata": {},
   "outputs": [
    {
     "name": "stdout",
     "output_type": "stream",
     "text": [
      "24.4 ms ± 1.05 ms per loop (mean ± std. dev. of 7 runs, 10 loops each)\n"
     ]
    }
   ],
   "source": [
    "%%timeit\n",
    "pd.read_parquet(\"penguin-dataset.parquet\", columns=[\"Flipper Length (mm)\"]).mean()"
   ]
  },
  {
   "cell_type": "code",
   "execution_count": 15,
   "metadata": {},
   "outputs": [
    {
     "name": "stdout",
     "output_type": "stream",
     "text": [
      "23.8 ms ± 782 µs per loop (mean ± std. dev. of 7 runs, 10 loops each)\n"
     ]
    }
   ],
   "source": [
    "%%timeit\n",
    "pq.read_pandas(\"penguin-dataset.parquet\", columns=[\"Flipper Length (mm)\"]).to_pandas().mean()"
   ]
  },
  {
   "cell_type": "code",
   "execution_count": 16,
   "metadata": {},
   "outputs": [
    {
     "name": "stdout",
     "output_type": "stream",
     "text": [
      "40.9 ms ± 2.01 ms per loop (mean ± std. dev. of 7 runs, 10 loops each)\n"
     ]
    }
   ],
   "source": [
    "%%timeit\n",
    "with pa.OSFile('penguin-dataset.arrow', 'rb') as source:\n",
    "    table = pa.ipc.open_file(source).read_all().column(\"Flipper Length (mm)\")\n",
    "result = table.to_pandas().mean()"
   ]
  },
  {
   "cell_type": "code",
   "execution_count": 17,
   "metadata": {},
   "outputs": [
    {
     "name": "stdout",
     "output_type": "stream",
     "text": [
      "4.43 ms ± 111 µs per loop (mean ± std. dev. of 7 runs, 100 loops each)\n"
     ]
    }
   ],
   "source": [
    "%%timeit\n",
    "source = pa.memory_map('penguin-dataset.arrow', 'r')\n",
    "table = pa.ipc.RecordBatchFileReader(source).read_all().column(\"Flipper Length (mm)\")\n",
    "result = table.to_pandas().mean()"
   ]
  },
  {
   "cell_type": "code",
   "execution_count": 18,
   "metadata": {},
   "outputs": [
    {
     "name": "stdout",
     "output_type": "stream",
     "text": [
      "2.81 ms ± 67.4 µs per loop (mean ± std. dev. of 7 runs, 100 loops each)\n"
     ]
    }
   ],
   "source": [
    "%%timeit\n",
    "source = pa.memory_map('penguin-dataset-nonan.arrow', 'r')\n",
    "table = pa.ipc.RecordBatchFileReader(source).read_all().column(\"Flipper Length (mm)\")\n",
    "result = table.to_pandas().mean()"
   ]
  },
  {
   "cell_type": "code",
   "execution_count": 19,
   "metadata": {},
   "outputs": [],
   "source": [
    "# Measure initial memory consumption\n",
    "memory_init = psutil.Process(os.getpid()).memory_info().rss >> 20"
   ]
  },
  {
   "cell_type": "code",
   "execution_count": 20,
   "metadata": {},
   "outputs": [],
   "source": [
    "col_csv = csv.read_csv(\"penguin-dataset.csv\")[\"Flipper Length (mm)\"]\n",
    "memory_post_csv = psutil.Process(os.getpid()).memory_info().rss >> 20"
   ]
  },
  {
   "cell_type": "code",
   "execution_count": 21,
   "metadata": {},
   "outputs": [],
   "source": [
    "col_parquet = pd.read_parquet(\"penguin-dataset.parquet\", columns=[\"Flipper Length (mm)\"])\n",
    "memory_post_parquet = psutil.Process(os.getpid()).memory_info().rss >> 20"
   ]
  },
  {
   "cell_type": "code",
   "execution_count": 22,
   "metadata": {},
   "outputs": [],
   "source": [
    "with pa.OSFile('penguin-dataset.arrow', 'rb') as source:\n",
    "    col_arrow_file = pa.ipc.open_file(source).read_all().column(\"Flipper Length (mm)\").to_pandas()\n",
    "memory_post_arrowos = psutil.Process(os.getpid()).memory_info().rss >> 20"
   ]
  },
  {
   "cell_type": "code",
   "execution_count": 23,
   "metadata": {},
   "outputs": [],
   "source": [
    "source = pa.memory_map('penguin-dataset.arrow', 'r')\n",
    "table_mmap = pa.ipc.RecordBatchFileReader(source).read_all().column(\"Flipper Length (mm)\")\n",
    "col_arrow_mapped = table_mmap.to_pandas()\n",
    "memory_post_arrowmmap = psutil.Process(os.getpid()).memory_info().rss >> 20"
   ]
  },
  {
   "cell_type": "code",
   "execution_count": 24,
   "metadata": {},
   "outputs": [],
   "source": [
    "source = pa.memory_map('penguin-dataset-nonan.arrow', 'r')\n",
    "table_mmap_zc = pa.ipc.RecordBatchFileReader(source).read_all().column(\"Flipper Length (mm)\")\n",
    "col_arrow_mapped_zc = table_mmap_zc.to_pandas()\n",
    "memory_post_arrowmmap_zc = psutil.Process(os.getpid()).memory_info().rss >> 20"
   ]
  },
  {
   "cell_type": "code",
   "execution_count": 25,
   "metadata": {},
   "outputs": [
    {
     "name": "stdout",
     "output_type": "stream",
     "text": [
      "csv: 494\n",
      "Parquet: 21\n",
      "Arrow file API: 196\n",
      "Arrow memory-mapped API with NaNs: 5\n",
      "Arrow memory-mapped API (zero-copy): 0\n",
      "\n"
     ]
    }
   ],
   "source": [
    "# Print memory consumption\n",
    "print(f\"csv: {memory_post_csv - memory_init}\\n\"\n",
    "      f\"Parquet: {memory_post_parquet - memory_post_csv}\\n\"\n",
    "      f\"Arrow file API: {memory_post_arrowos - memory_post_parquet}\\n\"\n",
    "      f\"Arrow memory-mapped API with NaNs: {memory_post_arrowmmap - memory_post_arrowos}\\n\"\n",
    "      f\"Arrow memory-mapped API (zero-copy): {memory_post_arrowmmap_zc - memory_post_arrowmmap}\\n\")"
   ]
  },
  {
   "cell_type": "code",
   "execution_count": 26,
   "metadata": {},
   "outputs": [],
   "source": [
    "def convert_hdf5_to_parquet(h5_file, parquet_file, chunksize=100000):\n",
    "\n",
    "    stream = pd.read_hdf(h5_file, chunksize=chunksize)\n",
    "\n",
    "    for i, chunk in enumerate(stream):\n",
    "        print(\"Chunk {}\".format(i))\n",
    "\n",
    "        if i == 0:\n",
    "            # Infer schema and open parquet file on first chunk\n",
    "            parquet_schema = pa.Table.from_pandas(df=chunk).schema\n",
    "            parquet_writer = pq.ParquetWriter(parquet_file, parquet_schema, compression='snappy')\n",
    "\n",
    "        table = pa.Table.from_pandas(chunk, schema=parquet_schema)\n",
    "        parquet_writer.write_table(table)\n",
    "\n",
    "    parquet_writer.close()"
   ]
  },
  {
   "cell_type": "code",
   "execution_count": 27,
   "metadata": {},
   "outputs": [
    {
     "ename": "ValueError",
     "evalue": "No dataset in HDF5 file.",
     "output_type": "error",
     "traceback": [
      "\u001B[0;31m---------------------------------------------------------------------------\u001B[0m",
      "\u001B[0;31mValueError\u001B[0m                                Traceback (most recent call last)",
      "\u001B[0;32m<ipython-input-27-81a7d49c2c49>\u001B[0m in \u001B[0;36m<module>\u001B[0;34m\u001B[0m\n\u001B[0;32m----> 1\u001B[0;31m \u001B[0mconvert_hdf5_to_parquet\u001B[0m\u001B[0;34m(\u001B[0m\u001B[0;34m'5k_pbmcs_10X.sparse.h5ad'\u001B[0m\u001B[0;34m,\u001B[0m \u001B[0;34m'5k_pbmcs_10X.parquet'\u001B[0m\u001B[0;34m)\u001B[0m\u001B[0;34m\u001B[0m\u001B[0;34m\u001B[0m\u001B[0m\n\u001B[0m",
      "\u001B[0;32m<ipython-input-26-716983c9dcd2>\u001B[0m in \u001B[0;36mconvert_hdf5_to_parquet\u001B[0;34m(h5_file, parquet_file, chunksize)\u001B[0m\n\u001B[1;32m      1\u001B[0m \u001B[0;32mdef\u001B[0m \u001B[0mconvert_hdf5_to_parquet\u001B[0m\u001B[0;34m(\u001B[0m\u001B[0mh5_file\u001B[0m\u001B[0;34m,\u001B[0m \u001B[0mparquet_file\u001B[0m\u001B[0;34m,\u001B[0m \u001B[0mchunksize\u001B[0m\u001B[0;34m=\u001B[0m\u001B[0;36m100000\u001B[0m\u001B[0;34m)\u001B[0m\u001B[0;34m:\u001B[0m\u001B[0;34m\u001B[0m\u001B[0;34m\u001B[0m\u001B[0m\n\u001B[1;32m      2\u001B[0m \u001B[0;34m\u001B[0m\u001B[0m\n\u001B[0;32m----> 3\u001B[0;31m     \u001B[0mstream\u001B[0m \u001B[0;34m=\u001B[0m \u001B[0mpd\u001B[0m\u001B[0;34m.\u001B[0m\u001B[0mread_hdf\u001B[0m\u001B[0;34m(\u001B[0m\u001B[0mh5_file\u001B[0m\u001B[0;34m,\u001B[0m \u001B[0mchunksize\u001B[0m\u001B[0;34m=\u001B[0m\u001B[0mchunksize\u001B[0m\u001B[0;34m)\u001B[0m\u001B[0;34m\u001B[0m\u001B[0;34m\u001B[0m\u001B[0m\n\u001B[0m\u001B[1;32m      4\u001B[0m \u001B[0;34m\u001B[0m\u001B[0m\n\u001B[1;32m      5\u001B[0m     \u001B[0;32mfor\u001B[0m \u001B[0mi\u001B[0m\u001B[0;34m,\u001B[0m \u001B[0mchunk\u001B[0m \u001B[0;32min\u001B[0m \u001B[0menumerate\u001B[0m\u001B[0;34m(\u001B[0m\u001B[0mstream\u001B[0m\u001B[0;34m)\u001B[0m\u001B[0;34m:\u001B[0m\u001B[0;34m\u001B[0m\u001B[0;34m\u001B[0m\u001B[0m\n",
      "\u001B[0;32m~/miniconda3/envs/rapidgenomics/lib/python3.7/site-packages/pandas/io/pytables.py\u001B[0m in \u001B[0;36mread_hdf\u001B[0;34m(path_or_buf, key, mode, errors, where, start, stop, columns, iterator, chunksize, **kwargs)\u001B[0m\n\u001B[1;32m    404\u001B[0m             \u001B[0mgroups\u001B[0m \u001B[0;34m=\u001B[0m \u001B[0mstore\u001B[0m\u001B[0;34m.\u001B[0m\u001B[0mgroups\u001B[0m\u001B[0;34m(\u001B[0m\u001B[0;34m)\u001B[0m\u001B[0;34m\u001B[0m\u001B[0;34m\u001B[0m\u001B[0m\n\u001B[1;32m    405\u001B[0m             \u001B[0;32mif\u001B[0m \u001B[0mlen\u001B[0m\u001B[0;34m(\u001B[0m\u001B[0mgroups\u001B[0m\u001B[0;34m)\u001B[0m \u001B[0;34m==\u001B[0m \u001B[0;36m0\u001B[0m\u001B[0;34m:\u001B[0m\u001B[0;34m\u001B[0m\u001B[0;34m\u001B[0m\u001B[0m\n\u001B[0;32m--> 406\u001B[0;31m                 \u001B[0;32mraise\u001B[0m \u001B[0mValueError\u001B[0m\u001B[0;34m(\u001B[0m\u001B[0;34m\"No dataset in HDF5 file.\"\u001B[0m\u001B[0;34m)\u001B[0m\u001B[0;34m\u001B[0m\u001B[0;34m\u001B[0m\u001B[0m\n\u001B[0m\u001B[1;32m    407\u001B[0m             \u001B[0mcandidate_only_group\u001B[0m \u001B[0;34m=\u001B[0m \u001B[0mgroups\u001B[0m\u001B[0;34m[\u001B[0m\u001B[0;36m0\u001B[0m\u001B[0;34m]\u001B[0m\u001B[0;34m\u001B[0m\u001B[0;34m\u001B[0m\u001B[0m\n\u001B[1;32m    408\u001B[0m \u001B[0;34m\u001B[0m\u001B[0m\n",
      "\u001B[0;31mValueError\u001B[0m: No dataset in HDF5 file."
     ]
    }
   ],
   "source": [
    "convert_hdf5_to_parquet('5k_pbmcs_10X.sparse.h5ad', '5k_pbmcs_10X.parquet')"
   ]
  },
  {
   "cell_type": "code",
   "execution_count": null,
   "metadata": {},
   "outputs": [],
   "source": []
  }
 ],
 "metadata": {
  "kernelspec": {
   "display_name": "Python (rapidgenomics)",
   "language": "python",
   "name": "python3"
  },
  "language_info": {
   "codemirror_mode": {
    "name": "ipython",
    "version": 3
   },
   "file_extension": ".py",
   "mimetype": "text/x-python",
   "name": "python",
   "nbconvert_exporter": "python",
   "pygments_lexer": "ipython3",
   "version": "3.7.10"
  }
 },
 "nbformat": 4,
 "nbformat_minor": 1
}